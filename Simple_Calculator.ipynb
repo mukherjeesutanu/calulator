{
 "cells": [
  {
   "cell_type": "code",
   "execution_count": 77,
   "metadata": {},
   "outputs": [
    {
     "name": "stdout",
     "output_type": "stream",
     "text": [
      "enter first number: 5\n",
      "enter second number: 4\n",
      "type of operation: eregta\n",
      "Please, choose anything among add/sub/multi/div\n"
     ]
    }
   ],
   "source": [
    "x = float(input('enter first number: '))\n",
    "y = float(input('enter second number: '))\n",
    "z = str(input('type of operation: '))\n",
    "\n",
    "def add(x,y):\n",
    "    return x+y\n",
    "def sub(x,y):\n",
    "    return x-y\n",
    "def multi(x,y):\n",
    "    return x*y\n",
    "def div(x,y):\n",
    "    return x/y\n",
    "\n",
    "if z == 'add':\n",
    "    print(add(x,y))\n",
    "elif z == 'sub':\n",
    "    print(sub(x,y))\n",
    "elif z == 'multi':\n",
    "    print(multi(x,y))\n",
    "elif z == 'div':\n",
    "    print(div(x,y))\n",
    "else:\n",
    "    print(\"Please, choose anything among add/sub/multi/div\")"
   ]
  },
  {
   "cell_type": "code",
   "execution_count": null,
   "metadata": {},
   "outputs": [],
   "source": []
  }
 ],
 "metadata": {
  "kernelspec": {
   "display_name": "Python 3",
   "language": "python",
   "name": "python3"
  },
  "language_info": {
   "codemirror_mode": {
    "name": "ipython",
    "version": 3
   },
   "file_extension": ".py",
   "mimetype": "text/x-python",
   "name": "python",
   "nbconvert_exporter": "python",
   "pygments_lexer": "ipython3",
   "version": "3.8.3"
  }
 },
 "nbformat": 4,
 "nbformat_minor": 4
}
